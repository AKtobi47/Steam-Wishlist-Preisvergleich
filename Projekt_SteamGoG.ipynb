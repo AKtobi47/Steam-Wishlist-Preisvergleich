{
 "cells": [
  {
   "cell_type": "code",
   "execution_count": null,
   "id": "8e648b1a",
   "metadata": {},
   "outputs": [
    {
     "name": "stdout",
     "output_type": "stream",
     "text": [
      "Logged prices for: Monster Hunter Wilds → MonsterHunterWilds.csv\n",
      "Logged prices for: MONSTER HUNTER: WORLD → MONSTERHUNTERWORLD.csv\n",
      "Logged prices for: Terraria → Terraria.csv\n",
      "Logged prices for: Valheim → Valheim.csv\n",
      "Logged prices for: Stardew Valley → StardewValley.csv\n"
     ]
    }
   ],
   "source": [
    "import requests\n",
    "import csv\n",
    "import os\n",
    "from datetime import datetime\n",
    "import re\n",
    "\n",
    "# Steam wishlist\n",
    "steam_app_ids = [\"2246340\", \"582010\", \"105600\", \"892970\", \"413150\"]\n",
    "\n",
    "stores = {\n",
    "    \"1\": \"Steam\",\n",
    "    \"3\": \"GreenManGaming\",\n",
    "    \"7\": \"GOG\",\n",
    "    \"11\": \"HumbleStore\",\n",
    "    \"15\": \"Fanatical\",\n",
    "    \"27\": \"GamesPlanet\"\n",
    "}\n",
    "\n",
    "today = datetime.today().strftime('%Y-%m-%d')\n",
    "\n",
    "output_dir = \"C:\\\\Users\\\\nilsl\\\\Documents\\\\gameList\"\n",
    "os.makedirs(output_dir, exist_ok=True)\n",
    "\n",
    "def filenameConversion(name):\n",
    "    return re.sub(r'\\W+', '', name.replace(\" \", \"\"))\n",
    "\n",
    "for app_id in steam_app_ids:\n",
    "    url = f\"https://www.cheapshark.com/api/1.0/deals?storeID=1,3,7,11,15,27&steamAppID={app_id}\"\n",
    "    response = requests.get(url)\n",
    "    if response.status_code != 200:\n",
    "        print(f\"Failed to fetch for {app_id}\")\n",
    "        continue\n",
    "\n",
    "    data = response.json()\n",
    "    if not data:\n",
    "        print(f\"No data found for {app_id}\")\n",
    "        continue\n",
    "\n",
    "    game_title = data[0].get(\"title\", f\"App_{app_id}\")\n",
    "    filename = filenameConversion(game_title) + \".csv\"\n",
    "    file_path = os.path.join(output_dir, filename)\n",
    "\n",
    "    # Initialize price info\n",
    "    prices = { \"Steam\": \"\", \"GreenManGaming\": \"\", \"GOG\": \"\", \"HumbleStore\": \"\",  \"Fanatical\": \"\", \"GamesPlanet\": \"\"}\n",
    "\n",
    "    for deal in data:\n",
    "        store_name = stores.get(deal[\"storeID\"])\n",
    "        if store_name:\n",
    "            prices[store_name] = deal[\"salePrice\"]\n",
    "\n",
    "    file_exists = os.path.isfile(file_path)\n",
    "\n",
    "    with open(file_path, mode='a', newline='') as file:\n",
    "        writer = csv.writer(file)\n",
    "        if not file_exists:\n",
    "            writer.writerow([\"date\", \"Steam\", \"GreenManGaming\", \"HumbleStore\", \"Fanatical\", \"GamesPlanet\"])\n",
    "        writer.writerow([today, prices[\"Steam\"], prices[\"GreenManGaming\"], prices[\"GOG\"], prices[\"HumbleStore\"], prices[\"Fanatical\"], prices[\"GamesPlanet\"]])\n",
    "\n",
    "    print(f\"Logged prices for: {game_title} → {filename}\")\n"
   ]
  }
 ],
 "metadata": {
  "kernelspec": {
   "display_name": "base",
   "language": "python",
   "name": "python3"
  },
  "language_info": {
   "codemirror_mode": {
    "name": "ipython",
    "version": 3
   },
   "file_extension": ".py",
   "mimetype": "text/x-python",
   "name": "python",
   "nbconvert_exporter": "python",
   "pygments_lexer": "ipython3",
   "version": "3.12.7"
  }
 },
 "nbformat": 4,
 "nbformat_minor": 5
}
